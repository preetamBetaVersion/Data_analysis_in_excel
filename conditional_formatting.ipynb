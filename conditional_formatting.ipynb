{
 "cells": [
  {
   "cell_type": "markdown",
   "id": "02846eb2-fcfd-4653-b767-c6a3297ec2f6",
   "metadata": {},
   "source": [
    "# Conditional formatting"
   ]
  },
  {
   "cell_type": "markdown",
   "id": "d1be900a-1ab4-47b4-ae3a-e7f4f3e7edfc",
   "metadata": {},
   "source": [
    "* It is a feature that allows you to format cells based on a pre set condition.\n",
    "* It helps you to identify cells faster.\n",
    "* highligh a few significant cells.\n",
    "* easily perform conditional formatting as the options are ready available in Excel."
   ]
  },
  {
   "cell_type": "markdown",
   "id": "8d73826a-001b-42c1-a110-fe4635bc68d7",
   "metadata": {},
   "source": [
    "<br>"
   ]
  },
  {
   "cell_type": "markdown",
   "id": "01e5ec40-3f90-4e8a-9784-a168bff30518",
   "metadata": {},
   "source": [
    "<img src=\"images/cf.png.png\">"
   ]
  },
  {
   "cell_type": "markdown",
   "id": "9ba7ac9c-32b5-4d5f-afbf-79736eef68f5",
   "metadata": {},
   "source": [
    "<br>"
   ]
  },
  {
   "cell_type": "markdown",
   "id": "6a42f840-8cf6-4063-97fa-9cd27d990a2e",
   "metadata": {},
   "source": [
    "<img src=\"images/cf1.png\">"
   ]
  },
  {
   "cell_type": "markdown",
   "id": "17ba5673-1f2e-442b-9940-9f784b671699",
   "metadata": {},
   "source": [
    "<br>"
   ]
  },
  {
   "cell_type": "markdown",
   "id": "0ee968a5-0cc0-4316-ae9c-602d387cbcc3",
   "metadata": {},
   "source": [
    "<img src=\"images/cf2.png\">"
   ]
  },
  {
   "cell_type": "markdown",
   "id": "33ce96b2-fe04-4ea8-a53a-602ddde5cc40",
   "metadata": {},
   "source": [
    "<br>"
   ]
  },
  {
   "cell_type": "markdown",
   "id": "5a68f594-c555-4180-8ed1-64e8327c7e6e",
   "metadata": {},
   "source": [
    "<img src=\"images/cf3.png\">"
   ]
  },
  {
   "cell_type": "markdown",
   "id": "3b155e49-11e7-41bd-a5bb-56d895d9cb8c",
   "metadata": {},
   "source": [
    "<br>"
   ]
  },
  {
   "cell_type": "markdown",
   "id": "f353b6f5-2b2c-4cb8-bbbf-38b08fe8db0a",
   "metadata": {},
   "source": []
  }
 ],
 "metadata": {
  "kernelspec": {
   "display_name": "Python 3 (ipykernel)",
   "language": "python",
   "name": "python3"
  },
  "language_info": {
   "codemirror_mode": {
    "name": "ipython",
    "version": 3
   },
   "file_extension": ".py",
   "mimetype": "text/x-python",
   "name": "python",
   "nbconvert_exporter": "python",
   "pygments_lexer": "ipython3",
   "version": "3.9.7"
  }
 },
 "nbformat": 4,
 "nbformat_minor": 5
}

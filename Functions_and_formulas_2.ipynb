{
 "cells": [
  {
   "cell_type": "markdown",
   "id": "33a0bd2d-4c65-425a-b228-f972db36552a",
   "metadata": {},
   "source": [
    "# **sumif** function"
   ]
  },
  {
   "cell_type": "markdown",
   "id": "c329d7c2-d936-4d28-8d35-80c6094165e2",
   "metadata": {},
   "source": [
    "SUMIF ( range, criteria, [sum_range] )"
   ]
  },
  {
   "cell_type": "markdown",
   "id": "044dcee8-9f92-433f-9b12-b296eba88983",
   "metadata": {},
   "source": [
    "It is used to filter out cells that meets required conditions and then add once the filtering is done."
   ]
  },
  {
   "cell_type": "markdown",
   "id": "d915f0f8-48f1-4bd8-8a4a-d89266447ca6",
   "metadata": {},
   "source": [
    "<img src=\"images/sumif.png\">"
   ]
  },
  {
   "cell_type": "markdown",
   "id": "7f371fde-1129-4b34-b49c-a42c9e260add",
   "metadata": {},
   "source": [
    "<br>"
   ]
  },
  {
   "cell_type": "markdown",
   "id": "87a55aad-eaa0-4a5a-85d1-3c1a026a7f77",
   "metadata": {},
   "source": [
    "# **sumifs** function"
   ]
  },
  {
   "cell_type": "markdown",
   "id": "2d294d98-eb15-4cfb-af49-8560af5b351a",
   "metadata": {},
   "source": [
    "It is used when multiple criteria needs to be fulfilled."
   ]
  },
  {
   "cell_type": "markdown",
   "id": "910c4e36-a339-4bd0-bae0-7e752b700519",
   "metadata": {},
   "source": [
    "<img src=\"images/sumifs_1.png\">"
   ]
  },
  {
   "cell_type": "markdown",
   "id": "cdb6284e-c266-4ead-8df4-71639593cb5d",
   "metadata": {},
   "source": [
    "<img src=\"images/sumifs_2.png\">"
   ]
  },
  {
   "cell_type": "markdown",
   "id": "06765f06-a0e2-45cf-ad07-5fd0e0ea706b",
   "metadata": {},
   "source": [
    "<br>"
   ]
  },
  {
   "cell_type": "markdown",
   "id": "22f80ee7-471f-4d10-8759-e08fa87b1c77",
   "metadata": {},
   "source": [
    "# **countif** function"
   ]
  },
  {
   "cell_type": "markdown",
   "id": "f9479a21-0388-4eda-9a81-af76ce3c13c0",
   "metadata": {},
   "source": [
    "Used to countif function to count the number of cells with a certain condition."
   ]
  },
  {
   "cell_type": "markdown",
   "id": "ded418b5-0790-4953-a339-1b5d29ea5b4f",
   "metadata": {},
   "source": [
    "<br>"
   ]
  },
  {
   "cell_type": "markdown",
   "id": "9438c897-d022-41df-971d-3949d5712f09",
   "metadata": {},
   "source": [
    "# **countifs** function"
   ]
  },
  {
   "cell_type": "markdown",
   "id": "ac34e239-c257-4cfe-8317-c058fefc6bf9",
   "metadata": {},
   "source": [
    "Used to give multiple criteria to count the number of cells."
   ]
  },
  {
   "cell_type": "markdown",
   "id": "f3d10b02-6935-45d3-b248-f5b5eec46541",
   "metadata": {},
   "source": [
    "<img src=\"images/countifs\">"
   ]
  },
  {
   "cell_type": "code",
   "execution_count": null,
   "id": "aafb4a94-272b-4d52-a9da-a47cc66151cc",
   "metadata": {},
   "outputs": [],
   "source": []
  }
 ],
 "metadata": {
  "kernelspec": {
   "display_name": "Python 3 (ipykernel)",
   "language": "python",
   "name": "python3"
  },
  "language_info": {
   "codemirror_mode": {
    "name": "ipython",
    "version": 3
   },
   "file_extension": ".py",
   "mimetype": "text/x-python",
   "name": "python",
   "nbconvert_exporter": "python",
   "pygments_lexer": "ipython3",
   "version": "3.9.7"
  }
 },
 "nbformat": 4,
 "nbformat_minor": 5
}

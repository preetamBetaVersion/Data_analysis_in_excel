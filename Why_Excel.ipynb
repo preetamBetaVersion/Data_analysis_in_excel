{
 "cells": [
  {
   "cell_type": "markdown",
   "id": "1aef927e-f698-44b3-8b32-809328301db7",
   "metadata": {},
   "source": [
    "# Why should we use Excel?\n",
    "* Various features in excel like searching, sorting, filtering make it easier for you to play with data.\n",
    "* Excel allows you to beautify your data and present it in the form of charts, tables and data bars.\n",
    "* Reporting, accounting and analysis can be performed with the help of excel.\n",
    "* Can help you with your task lists, calendars and goal planning worksheets.\n",
    "* Provides good security for your data. Excel files have the feature of password protection, this way your information is safe.\n",
    "\n",
    "### Microsoft Excel is an application that is used for recording, analysing and visualizing data. It is in the form of a spreadsheet.\n"
   ]
  }
 ],
 "metadata": {
  "kernelspec": {
   "display_name": "Python 3 (ipykernel)",
   "language": "python",
   "name": "python3"
  },
  "language_info": {
   "codemirror_mode": {
    "name": "ipython",
    "version": 3
   },
   "file_extension": ".py",
   "mimetype": "text/x-python",
   "name": "python",
   "nbconvert_exporter": "python",
   "pygments_lexer": "ipython3",
   "version": "3.9.7"
  }
 },
 "nbformat": 4,
 "nbformat_minor": 5
}

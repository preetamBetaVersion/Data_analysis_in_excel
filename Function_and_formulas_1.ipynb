{
 "cells": [
  {
   "cell_type": "markdown",
   "id": "7705090c-0f4c-49f3-9398-07428bef0f77",
   "metadata": {},
   "source": [
    "# What is a formula?"
   ]
  },
  {
   "cell_type": "markdown",
   "id": "7bd6c219-e01f-400d-a3e6-561822d9d605",
   "metadata": {},
   "source": [
    "In Excel, a formula is an expression that operates on values in various cells. Formulas allow you to perform operations such as addition, subtraction, multiplication, division, percentages, average etc."
   ]
  },
  {
   "cell_type": "markdown",
   "id": "316459ed-1ced-493a-9795-b40446c9f62c",
   "metadata": {},
   "source": [
    "<br>"
   ]
  },
  {
   "cell_type": "markdown",
   "id": "d970e5f0-ab33-469d-8f2f-cffcfe59eb98",
   "metadata": {},
   "source": [
    "# What is a function?"
   ]
  },
  {
   "cell_type": "markdown",
   "id": "736f0131-376c-4139-a905-7456e41d8674",
   "metadata": {},
   "source": [
    "Functions are predefined formulas that calculate specific values in a particular order. Functions are used to perform complex calculations which cannot be done manually."
   ]
  },
  {
   "cell_type": "markdown",
   "id": "b1cacb91-2b20-4eab-906b-854412299cea",
   "metadata": {},
   "source": [
    "<br>"
   ]
  },
  {
   "cell_type": "markdown",
   "id": "a3859e6c-5200-4c65-8592-175fc6bc83ff",
   "metadata": {},
   "source": [
    "## Different mathematical functions present in Excel"
   ]
  },
  {
   "cell_type": "markdown",
   "id": "d9d4181a-1c82-4745-a785-01e42e5d55f9",
   "metadata": {},
   "source": [
    ">sum  \n",
    "average  \n",
    "sumproduct  \n",
    "iseven  \n",
    "isodd  \n",
    "islogical  \n",
    "isnumber  \n",
    "round  \n",
    "rounddown  \n",
    "int  \n",
    "trunc  \n",
    "floor  \n",
    "ceiling   \n",
    "subtotal  \n",
    "fact  \n",
    "max  \n",
    "min  \n",
    "randbetween  \n",
    "pow  \n",
    "abs  \n",
    "mod  \n",
    "sqrt  \n",
    "count  \n",
    "counta  \n",
    "countblank  \n",
    "and  \n",
    "or"
   ]
  },
  {
   "cell_type": "markdown",
   "id": "12423d36-e621-4419-9545-bad159fb2a84",
   "metadata": {},
   "source": [
    "<br>"
   ]
  }
 ],
 "metadata": {
  "kernelspec": {
   "display_name": "Python 3 (ipykernel)",
   "language": "python",
   "name": "python3"
  },
  "language_info": {
   "codemirror_mode": {
    "name": "ipython",
    "version": 3
   },
   "file_extension": ".py",
   "mimetype": "text/x-python",
   "name": "python",
   "nbconvert_exporter": "python",
   "pygments_lexer": "ipython3",
   "version": "3.9.7"
  }
 },
 "nbformat": 4,
 "nbformat_minor": 5
}

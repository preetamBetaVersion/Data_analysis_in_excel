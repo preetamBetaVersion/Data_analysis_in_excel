{
 "cells": [
  {
   "cell_type": "markdown",
   "id": "4b752db8-f714-4f54-8690-ec4c2790c45d",
   "metadata": {},
   "source": [
    "# Excel basics"
   ]
  },
  {
   "cell_type": "markdown",
   "id": "f9890660-b35b-4d78-8c77-db66ddf10b98",
   "metadata": {},
   "source": [
    "<br>"
   ]
  },
  {
   "cell_type": "markdown",
   "id": "47e61e15-fd78-4897-ac34-592359206c68",
   "metadata": {},
   "source": [
    "## Adding numbers"
   ]
  },
  {
   "cell_type": "markdown",
   "id": "913e19e2-2f9b-405e-8a34-19599fede85d",
   "metadata": {},
   "source": [
    "<img src=\"images/sum.png\">"
   ]
  },
  {
   "cell_type": "markdown",
   "id": "7309f29e-0111-4b6f-bc72-099ea09e0601",
   "metadata": {},
   "source": [
    "**Note :** \">=50\" means greater than or equal to 50. \"<=50\" means less than or equal to 50. \"<>50\" means which is not equal to 50."
   ]
  },
  {
   "cell_type": "markdown",
   "id": "59d27259-987d-47a8-b113-e317c85910c3",
   "metadata": {},
   "source": [
    "<br>"
   ]
  },
  {
   "cell_type": "markdown",
   "id": "7aec7d06-3ec5-492e-a9da-2720c0e9d875",
   "metadata": {},
   "source": [
    "## Save time by filling cells automatically"
   ]
  },
  {
   "cell_type": "markdown",
   "id": "cdb6acf6-41a9-4136-ad4d-d9b344fedf8c",
   "metadata": {},
   "source": [
    "<img src=\"images/auto_cell_fillup.png\">"
   ]
  },
  {
   "cell_type": "markdown",
   "id": "13b1d2cf-6218-49db-8cc9-a2423c1cdc49",
   "metadata": {},
   "source": [
    "Excel can automatically fill some cells based on a series. For example, you can type Jan in one cell and then fill the other cells with Feb, Mar etc."
   ]
  },
  {
   "cell_type": "markdown",
   "id": "d4ef33f4-034e-4257-9e18-cfeee3a10480",
   "metadata": {},
   "source": [
    "<br>"
   ]
  },
  {
   "cell_type": "markdown",
   "id": "4c6e518c-104c-452a-b145-1103c128fbc7",
   "metadata": {},
   "source": [
    "## Data stuffed into one column? Split it"
   ]
  },
  {
   "cell_type": "markdown",
   "id": "b827ff44-8108-4d0b-8426-2389b4f2e3bf",
   "metadata": {},
   "source": [
    "<img src=\"images/image_1.png\">"
   ]
  },
  {
   "cell_type": "markdown",
   "id": "c9deb73c-9398-42b5-aecd-c3ed15f528b3",
   "metadata": {},
   "source": [
    "<br>"
   ]
  },
  {
   "cell_type": "markdown",
   "id": "43a6b102-b404-4d1a-bfd8-ff2905e0dfe0",
   "metadata": {},
   "source": [
    "## Switch data around by transposing it"
   ]
  },
  {
   "cell_type": "markdown",
   "id": "f6a7f783-590b-4ab1-9919-7994dcbcc24d",
   "metadata": {},
   "source": [
    "<img src=\"images/images_2.png\">"
   ]
  },
  {
   "cell_type": "markdown",
   "id": "1e48fdd1-57d9-414e-bd11-71f2224ba992",
   "metadata": {},
   "source": [
    "<br>"
   ]
  },
  {
   "cell_type": "markdown",
   "id": "bc37b74f-ed17-446e-8d6a-122f8d68420d",
   "metadata": {},
   "source": [
    "## sort and filter"
   ]
  },
  {
   "cell_type": "markdown",
   "id": "79101bd7-17ef-412e-8935-68549ab9b9c5",
   "metadata": {},
   "source": [
    "<img src=\"images/image_3.png\">"
   ]
  },
  {
   "cell_type": "markdown",
   "id": "c87befa7-1b34-41b9-91db-55fe9c58cce1",
   "metadata": {},
   "source": [
    "<br>"
   ]
  },
  {
   "cell_type": "markdown",
   "id": "38b3b98f-2315-4a4e-9f6f-7eea32d11bd1",
   "metadata": {},
   "source": [
    "## Tables"
   ]
  },
  {
   "cell_type": "markdown",
   "id": "e31868eb-c370-4492-8516-6618b4725a37",
   "metadata": {},
   "source": [
    "<img src=\"images/image_4.png\">"
   ]
  },
  {
   "cell_type": "markdown",
   "id": "79f7b866-aa82-439d-ad43-795246b468c4",
   "metadata": {},
   "source": [
    "<br>"
   ]
  },
  {
   "cell_type": "markdown",
   "id": "31c3d438-87fd-4c67-80a1-e0fe52f86cc7",
   "metadata": {},
   "source": [
    "## insert a dropdown list"
   ]
  },
  {
   "cell_type": "markdown",
   "id": "a9142013-3e0f-4ee2-8854-fb07a93f0813",
   "metadata": {},
   "source": [
    "<img src=\"images/image_5.png\">"
   ]
  },
  {
   "cell_type": "markdown",
   "id": "b341c873-2451-4e43-831a-2ce1eaad7aeb",
   "metadata": {},
   "source": [
    "<br>"
   ]
  },
  {
   "cell_type": "markdown",
   "id": "5e799cb3-ddef-458b-bf26-f030e04bc57e",
   "metadata": {},
   "source": [
    "## analyze data quickly"
   ]
  },
  {
   "cell_type": "markdown",
   "id": "4bd5dd89-f1b8-4609-9b16-26855ddc1a35",
   "metadata": {},
   "source": [
    "<img src=\"images/image_6.png\">"
   ]
  },
  {
   "cell_type": "markdown",
   "id": "238910b5-5070-49d4-bae1-885f3afeca8a",
   "metadata": {},
   "source": [
    "<br>"
   ]
  },
  {
   "cell_type": "markdown",
   "id": "8287544e-f92f-4def-ad20-819f7ef0f2fd",
   "metadata": {},
   "source": [
    "## great charts recommended"
   ]
  },
  {
   "cell_type": "markdown",
   "id": "ae3d5ed6-4c2c-4b3a-b99e-4cddcc04a26f",
   "metadata": {},
   "source": [
    "<img src=\"images/image_7.png\">"
   ]
  },
  {
   "cell_type": "markdown",
   "id": "119be110-28b7-4d9c-8f7c-5a2fcfac9ba7",
   "metadata": {},
   "source": [
    "<br>"
   ]
  },
  {
   "cell_type": "markdown",
   "id": "b651e827-7148-4a5a-a860-5139bcbb9ed4",
   "metadata": {},
   "source": [
    "## Summarise data with Pivot tables"
   ]
  },
  {
   "cell_type": "markdown",
   "id": "d78b377f-9694-4b92-8bdf-98ee49232359",
   "metadata": {},
   "source": [
    "<img src=\"images/image_8.png\">"
   ]
  }
 ],
 "metadata": {
  "kernelspec": {
   "display_name": "Python 3 (ipykernel)",
   "language": "python",
   "name": "python3"
  },
  "language_info": {
   "codemirror_mode": {
    "name": "ipython",
    "version": 3
   },
   "file_extension": ".py",
   "mimetype": "text/x-python",
   "name": "python",
   "nbconvert_exporter": "python",
   "pygments_lexer": "ipython3",
   "version": "3.9.7"
  }
 },
 "nbformat": 4,
 "nbformat_minor": 5
}
